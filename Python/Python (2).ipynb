{
 "cells": [
  {
   "cell_type": "markdown",
   "metadata": {},
   "source": [
    "# Python: syntax and concepts\n",
    "\n",
    "This is a tutorial on basic Python syntax and concepts for the [KIPAC computing boot camp](http://kipac.github.io/BootCamp).\n",
    "\n",
    "Author: [Yao-Yuan Mao](http://yymao.github.io)"
   ]
  },
  {
   "cell_type": "markdown",
   "metadata": {},
   "source": [
    "## Basic syntax:\n",
    "\n",
    "- No semicolons (;). Each line needs to be a complete statment, unless broken by a backslash (\\).\n",
    "- Variables can be declared dynamically. \n",
    "- Nested statments are opened by colons (:), and the structures are specified by **indentation**."
   ]
  },
  {
   "cell_type": "code",
   "execution_count": 19,
   "metadata": {
    "collapsed": false
   },
   "outputs": [
    {
     "name": "stdout",
     "output_type": "stream",
     "text": [
      "x <= 1\n"
     ]
    }
   ],
   "source": [
    "x = 1\n",
    "\n",
    "if x > 1:\n",
    "    print('x > 1')\n",
    "else:\n",
    "    print('x <= 1')"
   ]
  },
  {
   "cell_type": "code",
   "execution_count": 15,
   "metadata": {
    "collapsed": false
   },
   "outputs": [
    {
     "data": {
      "text/plain": [
       "2.4"
      ]
     },
     "execution_count": 15,
     "metadata": {},
     "output_type": "execute_result"
    }
   ],
   "source": [
    "def multiply(a, b):\n",
    "    return a*b\n",
    "\n",
    "multiply(1.2, 2)\n"
   ]
  },
  {
   "cell_type": "code",
   "execution_count": 25,
   "metadata": {
    "collapsed": false
   },
   "outputs": [
    {
     "name": "stdout",
     "output_type": "stream",
     "text": [
      "9\n",
      "8\n",
      "7\n",
      "6\n",
      "5\n",
      "4\n",
      "3\n",
      "2\n",
      "1\n",
      "0\n"
     ]
    }
   ],
   "source": [
    "x = 10\n",
    "while x > 0:\n",
    "    x -= 1\n",
    "    print(x)"
   ]
  },
  {
   "cell_type": "markdown",
   "metadata": {},
   "source": [
    "## Modules\n",
    "\n",
    "Many functionalities and features are availiable by loading modules.\n",
    "\n",
    "[See here](https://docs.python.org/2/library/) for a list of modules in the Python standard library"
   ]
  },
  {
   "cell_type": "code",
   "execution_count": 26,
   "metadata": {
    "collapsed": false
   },
   "outputs": [
    {
     "ename": "NameError",
     "evalue": "name 'cos' is not defined",
     "output_type": "error",
     "traceback": [
      "\u001b[0;31m---------------------------------------------------------------------------\u001b[0m",
      "\u001b[0;31mNameError\u001b[0m                                 Traceback (most recent call last)",
      "\u001b[0;32m<ipython-input-26-eddb8697e1ef>\u001b[0m in \u001b[0;36m<module>\u001b[0;34m()\u001b[0m\n\u001b[0;32m----> 1\u001b[0;31m \u001b[0mcos\u001b[0m\u001b[0;34m(\u001b[0m\u001b[0;36m0\u001b[0m\u001b[0;34m)\u001b[0m\u001b[0;34m\u001b[0m\u001b[0m\n\u001b[0m",
      "\u001b[0;31mNameError\u001b[0m: name 'cos' is not defined"
     ]
    }
   ],
   "source": [
    "cos(0)"
   ]
  },
  {
   "cell_type": "code",
   "execution_count": 27,
   "metadata": {
    "collapsed": false
   },
   "outputs": [
    {
     "data": {
      "text/plain": [
       "1.0"
      ]
     },
     "execution_count": 27,
     "metadata": {},
     "output_type": "execute_result"
    }
   ],
   "source": [
    "import math\n",
    "\n",
    "math.cos(0)"
   ]
  },
  {
   "cell_type": "code",
   "execution_count": 28,
   "metadata": {
    "collapsed": false
   },
   "outputs": [
    {
     "data": {
      "text/plain": [
       "1.0"
      ]
     },
     "execution_count": 28,
     "metadata": {},
     "output_type": "execute_result"
    }
   ],
   "source": [
    "from math import cos\n",
    "\n",
    "cos(0)"
   ]
  },
  {
   "cell_type": "code",
   "execution_count": 36,
   "metadata": {
    "collapsed": false
   },
   "outputs": [
    {
     "name": "stdout",
     "output_type": "stream",
     "text": [
      "1.0\n",
      "<built-in function sin>\n"
     ]
    },
    {
     "data": {
      "text/plain": [
       "{'In': ['',\n",
       "  u\"x = 1\\n\\nif x > 1:\\n    print('x > 1')\\nelse:\\n    print('x <= 1')\",\n",
       "  u\"x = 1\\n\\nif x > 1:\\n    print('x > 1')\\nelse:\\n    print('x <= 1');\",\n",
       "  u\"x = 1\\n\\nif x > 1:\\n    print('x > 1')\\nelse:\\n    print('x <= 1')\",\n",
       "  u\"x = 1\\n\\nif x > 1:\\n    print('x > 1')\\nelse:\\n    print('x <= 1')/\",\n",
       "  u\"x = 1\\n\\nif x > 1:\\n    print('x > 1')\\nelse:\\n    print('x <= 1')\",\n",
       "  u\"x = 1\\n\\nif x > 1:\\n    print('x > 1')\\nelse:\\n    print('x <= \\\\1')\",\n",
       "  u\"x = 1\\n\\nif x > 1:\\n    print('x > 1')\\nelse:\\n    print('x <=     1')\",\n",
       "  u\"x = 1\\n\\nif x > 1:\\n    print('x > 1')\\nelse:\\n    print('x <=\\n    1')\",\n",
       "  u\"x = 1\\n\\nif x > 1:\\n    print('x > 1')\\nelse:\\n    print('x <= 1')\",\n",
       "  u'def multiply(a, b):\\n    return a*b\\n\\nmultiply(1.2, 2)',\n",
       "  u'def multiply(a, b):\\n    return a\\n\\nmultiply(1.2, 2)',\n",
       "  u'def multiply(a, b):\\n    return a*b\\n\\nmultiply(1.2, 2)',\n",
       "  u'def multiply(a, b):\\n    return a*b\\n\\nmultiply(1.2, 2)\\na*b',\n",
       "  u'def multiply(a, b):\\n    return a*b\\n\\nmultiply(1.2, 2)\\n1.2*2',\n",
       "  u'def multiply(a, b):\\n    return a*b\\n\\nmultiply(1.2, 2)',\n",
       "  u\"x = 1\\n\\nif x > 1:\\nprint('x > 1')\\nelse:\\n    print('x <= 1')\",\n",
       "  u\"x = 1\\n\\nif x > 1:\\nprint('x > 1')\\nelse:\\n    print('x <= 1')\",\n",
       "  u\"x = 1\\n\\nif x > 1:\\nprint('x > 1')\\nelse:\\nprint('x <= 1')\",\n",
       "  u\"x = 1\\n\\nif x > 1:\\n    print('x > 1')\\nelse:\\n    print('x <= 1')\",\n",
       "  u'x = 10\\nwhile x > 0:\\n    x -= 1\\n    print(x)',\n",
       "  u'x = 10\\nwhile x > 0:\\n    print(x)\\n    x -= 1',\n",
       "  u'x = 10\\nwhile x > 0:\\nprint(x)\\n    x -= 1',\n",
       "  u'x = 10\\nwhile x > 0:\\n    x -= 1\\n    print(x)',\n",
       "  u'x = 10\\nwhile x > 0:\\n    x -= 1\\nprint(x)',\n",
       "  u'x = 10\\nwhile x > 0:\\n    x -= 1\\n    print(x)',\n",
       "  u'cos(0)',\n",
       "  u'import math\\n\\nmath.cos(0)',\n",
       "  u'from math import cos\\n\\ncos(0)',\n",
       "  u'sin = 1.0\\nprint(sin)\\n\\nfrom math import sin\\nprint(sin)',\n",
       "  u'sin = 1.0\\nprint(sin)\\n\\nfrom math import sin\\nprint(sin)\\n\\nsin=1\\nprint(sin)',\n",
       "  u'sin = 1.0\\nprint(sin)\\n\\nfrom math import sin\\nprint(sin)\\n\\nsin=1\\nprint(sin)\\nsin(0)',\n",
       "  u'sin = 1.0\\nprint(sin)\\n\\nfrom math import sin\\nprint(sin)',\n",
       "  u'sin = 1.0\\nprint(sin)\\n\\nfrom math import sin\\nprint(sin)\\n\\nfrom math import *',\n",
       "  u'sin = 1.0\\nprint(sin)\\n\\nfrom math import sin\\nprint(sin)\\n\\nfrom math import \\nglobals()',\n",
       "  u'sin = 1.0\\nprint(sin)\\n\\nfrom math import sin\\nprint(sin)\\n\\nfrom math import \\nglobals',\n",
       "  u'sin = 1.0\\nprint(sin)\\n\\nfrom math import sin\\nprint(sin)\\n\\nfrom math import *\\nglobals()'],\n",
       " 'Out': {10: 2.4, 11: 1.2, 12: 2.4, 14: 2.4, 15: 2.4, 27: 1.0, 28: 1.0},\n",
       " '_': 1.0,\n",
       " '_10': 2.4,\n",
       " '_11': 1.2,\n",
       " '_12': 2.4,\n",
       " '_14': 2.4,\n",
       " '_15': 2.4,\n",
       " '_27': 1.0,\n",
       " '_28': 1.0,\n",
       " '__': 1.0,\n",
       " '___': 2.4,\n",
       " '__builtin__': <module '__builtin__' (built-in)>,\n",
       " '__builtins__': <module '__builtin__' (built-in)>,\n",
       " '__doc__': 'Automatically created module for IPython interactive environment',\n",
       " '__name__': '__main__',\n",
       " '__package__': None,\n",
       " '_dh': [u'/Users/Emil/Documents/Stanford/Year 1/KIPAC_BOOTCAMP/BootCamp/Python'],\n",
       " '_i': u'sin = 1.0\\nprint(sin)\\n\\nfrom math import sin\\nprint(sin)\\n\\nfrom math import \\nglobals',\n",
       " '_i1': u\"x = 1\\n\\nif x > 1:\\n    print('x > 1')\\nelse:\\n    print('x <= 1')\",\n",
       " '_i10': u'def multiply(a, b):\\n    return a*b\\n\\nmultiply(1.2, 2)',\n",
       " '_i11': u'def multiply(a, b):\\n    return a\\n\\nmultiply(1.2, 2)',\n",
       " '_i12': u'def multiply(a, b):\\n    return a*b\\n\\nmultiply(1.2, 2)',\n",
       " '_i13': u'def multiply(a, b):\\n    return a*b\\n\\nmultiply(1.2, 2)\\na*b',\n",
       " '_i14': u'def multiply(a, b):\\n    return a*b\\n\\nmultiply(1.2, 2)\\n1.2*2',\n",
       " '_i15': u'def multiply(a, b):\\n    return a*b\\n\\nmultiply(1.2, 2)',\n",
       " '_i16': u\"x = 1\\n\\nif x > 1:\\nprint('x > 1')\\nelse:\\n    print('x <= 1')\",\n",
       " '_i17': u\"x = 1\\n\\nif x > 1:\\nprint('x > 1')\\nelse:\\n    print('x <= 1')\",\n",
       " '_i18': u\"x = 1\\n\\nif x > 1:\\nprint('x > 1')\\nelse:\\nprint('x <= 1')\",\n",
       " '_i19': u\"x = 1\\n\\nif x > 1:\\n    print('x > 1')\\nelse:\\n    print('x <= 1')\",\n",
       " '_i2': u\"x = 1\\n\\nif x > 1:\\n    print('x > 1')\\nelse:\\n    print('x <= 1');\",\n",
       " '_i20': u'x = 10\\nwhile x > 0:\\n    x -= 1\\n    print(x)',\n",
       " '_i21': u'x = 10\\nwhile x > 0:\\n    print(x)\\n    x -= 1',\n",
       " '_i22': u'x = 10\\nwhile x > 0:\\nprint(x)\\n    x -= 1',\n",
       " '_i23': u'x = 10\\nwhile x > 0:\\n    x -= 1\\n    print(x)',\n",
       " '_i24': u'x = 10\\nwhile x > 0:\\n    x -= 1\\nprint(x)',\n",
       " '_i25': u'x = 10\\nwhile x > 0:\\n    x -= 1\\n    print(x)',\n",
       " '_i26': u'cos(0)',\n",
       " '_i27': u'import math\\n\\nmath.cos(0)',\n",
       " '_i28': u'from math import cos\\n\\ncos(0)',\n",
       " '_i29': u'sin = 1.0\\nprint(sin)\\n\\nfrom math import sin\\nprint(sin)',\n",
       " '_i3': u\"x = 1\\n\\nif x > 1:\\n    print('x > 1')\\nelse:\\n    print('x <= 1')\",\n",
       " '_i30': u'sin = 1.0\\nprint(sin)\\n\\nfrom math import sin\\nprint(sin)\\n\\nsin=1\\nprint(sin)',\n",
       " '_i31': u'sin = 1.0\\nprint(sin)\\n\\nfrom math import sin\\nprint(sin)\\n\\nsin=1\\nprint(sin)\\nsin(0)',\n",
       " '_i32': u'sin = 1.0\\nprint(sin)\\n\\nfrom math import sin\\nprint(sin)',\n",
       " '_i33': u'sin = 1.0\\nprint(sin)\\n\\nfrom math import sin\\nprint(sin)\\n\\nfrom math import *',\n",
       " '_i34': u'sin = 1.0\\nprint(sin)\\n\\nfrom math import sin\\nprint(sin)\\n\\nfrom math import \\nglobals()',\n",
       " '_i35': u'sin = 1.0\\nprint(sin)\\n\\nfrom math import sin\\nprint(sin)\\n\\nfrom math import \\nglobals',\n",
       " '_i36': u'sin = 1.0\\nprint(sin)\\n\\nfrom math import sin\\nprint(sin)\\n\\nfrom math import *\\nglobals()',\n",
       " '_i4': u\"x = 1\\n\\nif x > 1:\\n    print('x > 1')\\nelse:\\n    print('x <= 1')/\",\n",
       " '_i5': u\"x = 1\\n\\nif x > 1:\\n    print('x > 1')\\nelse:\\n    print('x <= 1')\\\\\",\n",
       " '_i6': u\"x = 1\\n\\nif x > 1:\\n    print('x > 1')\\nelse:\\n    print('x <= \\\\1')\",\n",
       " '_i7': u\"x = 1\\n\\nif x > 1:\\n    print('x > 1')\\nelse:\\n    print('x <= \\\\\\n    1')\",\n",
       " '_i8': u\"x = 1\\n\\nif x > 1:\\n    print('x > 1')\\nelse:\\n    print('x <=\\n    1')\",\n",
       " '_i9': u\"x = 1\\n\\nif x > 1:\\n    print('x > 1')\\nelse:\\n    print('x <= 1')\",\n",
       " '_ih': ['',\n",
       "  u\"x = 1\\n\\nif x > 1:\\n    print('x > 1')\\nelse:\\n    print('x <= 1')\",\n",
       "  u\"x = 1\\n\\nif x > 1:\\n    print('x > 1')\\nelse:\\n    print('x <= 1');\",\n",
       "  u\"x = 1\\n\\nif x > 1:\\n    print('x > 1')\\nelse:\\n    print('x <= 1')\",\n",
       "  u\"x = 1\\n\\nif x > 1:\\n    print('x > 1')\\nelse:\\n    print('x <= 1')/\",\n",
       "  u\"x = 1\\n\\nif x > 1:\\n    print('x > 1')\\nelse:\\n    print('x <= 1')\",\n",
       "  u\"x = 1\\n\\nif x > 1:\\n    print('x > 1')\\nelse:\\n    print('x <= \\\\1')\",\n",
       "  u\"x = 1\\n\\nif x > 1:\\n    print('x > 1')\\nelse:\\n    print('x <=     1')\",\n",
       "  u\"x = 1\\n\\nif x > 1:\\n    print('x > 1')\\nelse:\\n    print('x <=\\n    1')\",\n",
       "  u\"x = 1\\n\\nif x > 1:\\n    print('x > 1')\\nelse:\\n    print('x <= 1')\",\n",
       "  u'def multiply(a, b):\\n    return a*b\\n\\nmultiply(1.2, 2)',\n",
       "  u'def multiply(a, b):\\n    return a\\n\\nmultiply(1.2, 2)',\n",
       "  u'def multiply(a, b):\\n    return a*b\\n\\nmultiply(1.2, 2)',\n",
       "  u'def multiply(a, b):\\n    return a*b\\n\\nmultiply(1.2, 2)\\na*b',\n",
       "  u'def multiply(a, b):\\n    return a*b\\n\\nmultiply(1.2, 2)\\n1.2*2',\n",
       "  u'def multiply(a, b):\\n    return a*b\\n\\nmultiply(1.2, 2)',\n",
       "  u\"x = 1\\n\\nif x > 1:\\nprint('x > 1')\\nelse:\\n    print('x <= 1')\",\n",
       "  u\"x = 1\\n\\nif x > 1:\\nprint('x > 1')\\nelse:\\n    print('x <= 1')\",\n",
       "  u\"x = 1\\n\\nif x > 1:\\nprint('x > 1')\\nelse:\\nprint('x <= 1')\",\n",
       "  u\"x = 1\\n\\nif x > 1:\\n    print('x > 1')\\nelse:\\n    print('x <= 1')\",\n",
       "  u'x = 10\\nwhile x > 0:\\n    x -= 1\\n    print(x)',\n",
       "  u'x = 10\\nwhile x > 0:\\n    print(x)\\n    x -= 1',\n",
       "  u'x = 10\\nwhile x > 0:\\nprint(x)\\n    x -= 1',\n",
       "  u'x = 10\\nwhile x > 0:\\n    x -= 1\\n    print(x)',\n",
       "  u'x = 10\\nwhile x > 0:\\n    x -= 1\\nprint(x)',\n",
       "  u'x = 10\\nwhile x > 0:\\n    x -= 1\\n    print(x)',\n",
       "  u'cos(0)',\n",
       "  u'import math\\n\\nmath.cos(0)',\n",
       "  u'from math import cos\\n\\ncos(0)',\n",
       "  u'sin = 1.0\\nprint(sin)\\n\\nfrom math import sin\\nprint(sin)',\n",
       "  u'sin = 1.0\\nprint(sin)\\n\\nfrom math import sin\\nprint(sin)\\n\\nsin=1\\nprint(sin)',\n",
       "  u'sin = 1.0\\nprint(sin)\\n\\nfrom math import sin\\nprint(sin)\\n\\nsin=1\\nprint(sin)\\nsin(0)',\n",
       "  u'sin = 1.0\\nprint(sin)\\n\\nfrom math import sin\\nprint(sin)',\n",
       "  u'sin = 1.0\\nprint(sin)\\n\\nfrom math import sin\\nprint(sin)\\n\\nfrom math import *',\n",
       "  u'sin = 1.0\\nprint(sin)\\n\\nfrom math import sin\\nprint(sin)\\n\\nfrom math import \\nglobals()',\n",
       "  u'sin = 1.0\\nprint(sin)\\n\\nfrom math import sin\\nprint(sin)\\n\\nfrom math import \\nglobals',\n",
       "  u'sin = 1.0\\nprint(sin)\\n\\nfrom math import sin\\nprint(sin)\\n\\nfrom math import *\\nglobals()'],\n",
       " '_ii': u'sin = 1.0\\nprint(sin)\\n\\nfrom math import sin\\nprint(sin)\\n\\nfrom math import \\nglobals()',\n",
       " '_iii': u'sin = 1.0\\nprint(sin)\\n\\nfrom math import sin\\nprint(sin)\\n\\nfrom math import *',\n",
       " '_oh': {10: 2.4, 11: 1.2, 12: 2.4, 14: 2.4, 15: 2.4, 27: 1.0, 28: 1.0},\n",
       " '_sh': <module 'IPython.core.shadowns' from '/Users/Emil/miniconda3/envs/py27/lib/python2.7/site-packages/IPython/core/shadowns.pyc'>,\n",
       " 'acos': <function math.acos>,\n",
       " 'acosh': <function math.acosh>,\n",
       " 'asin': <function math.asin>,\n",
       " 'asinh': <function math.asinh>,\n",
       " 'atan': <function math.atan>,\n",
       " 'atan2': <function math.atan2>,\n",
       " 'atanh': <function math.atanh>,\n",
       " 'ceil': <function math.ceil>,\n",
       " 'copysign': <function math.copysign>,\n",
       " 'cos': <function math.cos>,\n",
       " 'cosh': <function math.cosh>,\n",
       " 'degrees': <function math.degrees>,\n",
       " 'e': 2.718281828459045,\n",
       " 'erf': <function math.erf>,\n",
       " 'erfc': <function math.erfc>,\n",
       " 'exit': <IPython.core.autocall.ZMQExitAutocall at 0x105e25b50>,\n",
       " 'exp': <function math.exp>,\n",
       " 'expm1': <function math.expm1>,\n",
       " 'fabs': <function math.fabs>,\n",
       " 'factorial': <function math.factorial>,\n",
       " 'floor': <function math.floor>,\n",
       " 'fmod': <function math.fmod>,\n",
       " 'frexp': <function math.frexp>,\n",
       " 'fsum': <function math.fsum>,\n",
       " 'gamma': <function math.gamma>,\n",
       " 'get_ipython': <bound method ZMQInteractiveShell.get_ipython of <ipykernel.zmqshell.ZMQInteractiveShell object at 0x105e1eb50>>,\n",
       " 'hypot': <function math.hypot>,\n",
       " 'isinf': <function math.isinf>,\n",
       " 'isnan': <function math.isnan>,\n",
       " 'ldexp': <function math.ldexp>,\n",
       " 'lgamma': <function math.lgamma>,\n",
       " 'log': <function math.log>,\n",
       " 'log10': <function math.log10>,\n",
       " 'log1p': <function math.log1p>,\n",
       " 'math': <module 'math' from '/Users/Emil/miniconda3/envs/py27/lib/python2.7/lib-dynload/math.so'>,\n",
       " 'modf': <function math.modf>,\n",
       " 'multiply': <function __main__.multiply>,\n",
       " 'pi': 3.141592653589793,\n",
       " 'pow': <function math.pow>,\n",
       " 'quit': <IPython.core.autocall.ZMQExitAutocall at 0x105e25b50>,\n",
       " 'radians': <function math.radians>,\n",
       " 'sin': <function math.sin>,\n",
       " 'sinh': <function math.sinh>,\n",
       " 'sqrt': <function math.sqrt>,\n",
       " 'tan': <function math.tan>,\n",
       " 'tanh': <function math.tanh>,\n",
       " 'trunc': <function math.trunc>,\n",
       " 'x': 0}"
      ]
     },
     "execution_count": 36,
     "metadata": {},
     "output_type": "execute_result"
    }
   ],
   "source": [
    "sin = 1.0\n",
    "print(sin)\n",
    "\n",
    "from math import sin\n",
    "print(sin)\n",
    "\n",
    "from math import *\n",
    "globals()"
   ]
  },
  {
   "cell_type": "code",
   "execution_count": 40,
   "metadata": {
    "collapsed": false
   },
   "outputs": [
    {
     "name": "stdout",
     "output_type": "stream",
     "text": [
      "['.ipynb_checkpoints', 'Installation.md', 'Python (1).ipynb', 'Python (2).ipynb', 'Untitled.ipynb', 'Using Notebooks.md', 'Zen.txt']\n",
      "31122\n",
      "Installation.md    Python (2).ipynb   Using Notebooks.md\r\n",
      "Python (1).ipynb   Untitled.ipynb     Zen.txt\r\n"
     ]
    }
   ],
   "source": [
    "import os\n",
    "\n",
    "print os.listdir(os.curdir)\n",
    "print os.path.getsize('Python (2).ipynb')\n",
    "\n",
    "!ls #for mac/linux only"
   ]
  },
  {
   "cell_type": "code",
   "execution_count": 41,
   "metadata": {
    "collapsed": false
   },
   "outputs": [
    {
     "name": "stdout",
     "output_type": "stream",
     "text": [
      "1443127930.98\n"
     ]
    }
   ],
   "source": [
    "import time\n",
    "\n",
    "time.sleep(3)\n",
    "print time.time()"
   ]
  },
  {
   "cell_type": "code",
   "execution_count": 42,
   "metadata": {
    "collapsed": false
   },
   "outputs": [
    {
     "data": {
      "text/plain": [
       "'      21 Zen.txt\\n'"
      ]
     },
     "execution_count": 42,
     "metadata": {},
     "output_type": "execute_result"
    }
   ],
   "source": [
    "import subprocess\n",
    "\n",
    "subprocess.check_output(['wc', '-l', 'Zen.txt'])"
   ]
  },
  {
   "cell_type": "code",
   "execution_count": 43,
   "metadata": {
    "collapsed": true
   },
   "outputs": [],
   "source": [
    "import antigravity"
   ]
  },
  {
   "cell_type": "markdown",
   "metadata": {},
   "source": [
    "## Functions and lambda expressions"
   ]
  },
  {
   "cell_type": "code",
   "execution_count": 44,
   "metadata": {
    "collapsed": false
   },
   "outputs": [
    {
     "data": {
      "text/plain": [
       "3"
      ]
     },
     "execution_count": 44,
     "metadata": {},
     "output_type": "execute_result"
    }
   ],
   "source": [
    "def add(x, y):\n",
    "    return x + y\n",
    "\n",
    "add(1, 2)"
   ]
  },
  {
   "cell_type": "code",
   "execution_count": 45,
   "metadata": {
    "collapsed": false
   },
   "outputs": [
    {
     "name": "stdout",
     "output_type": "stream",
     "text": [
      "2\n",
      "4\n"
     ]
    }
   ],
   "source": [
    "def addone(x, y=1): #y=1 unless specified\n",
    "    return x + y\n",
    "\n",
    "print(addone(1))\n",
    "print(addone(1, 3))"
   ]
  },
  {
   "cell_type": "markdown",
   "metadata": {},
   "source": [
    "lambda expression is an one-line function that always has a return"
   ]
  },
  {
   "cell_type": "code",
   "execution_count": 49,
   "metadata": {
    "collapsed": false
   },
   "outputs": [
    {
     "name": "stdout",
     "output_type": "stream",
     "text": [
      "2\n",
      "4\n"
     ]
    }
   ],
   "source": [
    "addone = lambda x, y=1: x + y #funciton name = lambda arguments: return\n",
    "print(addone(1))\n",
    "print(addone(1,3))"
   ]
  },
  {
   "cell_type": "code",
   "execution_count": 50,
   "metadata": {
    "collapsed": false
   },
   "outputs": [
    {
     "data": {
      "text/plain": [
       "(0.25, 2.7755575615628914e-15)"
      ]
     },
     "execution_count": 50,
     "metadata": {},
     "output_type": "execute_result"
    }
   ],
   "source": [
    "from scipy.integrate import quad\n",
    "\n",
    "quad(lambda x: x*x*x, 0, 1) #gives (result, numerical integration error)"
   ]
  },
  {
   "cell_type": "markdown",
   "metadata": {},
   "source": [
    "### Variable scopes\n",
    "\n",
    "Variable scope is implicitly determined by the scope **in which one assigns a value to the variable**, unless scope is explicitly declared with `global`.\n",
    "\n",
    "See the difference between the following three cells."
   ]
  },
  {
   "cell_type": "code",
   "execution_count": 51,
   "metadata": {
    "collapsed": false
   },
   "outputs": [
    {
     "name": "stdout",
     "output_type": "stream",
     "text": [
      "1\n",
      "1\n"
     ]
    }
   ],
   "source": [
    "x = 1\n",
    "\n",
    "def my_function():\n",
    "    print(x)\n",
    "    \n",
    "my_function()\n",
    "\n",
    "print(x)"
   ]
  },
  {
   "cell_type": "code",
   "execution_count": 52,
   "metadata": {
    "collapsed": false
   },
   "outputs": [
    {
     "name": "stdout",
     "output_type": "stream",
     "text": [
      "3\n",
      "1\n"
     ]
    }
   ],
   "source": [
    "x = 1\n",
    "\n",
    "def my_function():\n",
    "    x = 3\n",
    "    print(x)\n",
    "    \n",
    "my_function()\n",
    "\n",
    "print(x)"
   ]
  },
  {
   "cell_type": "code",
   "execution_count": 53,
   "metadata": {
    "collapsed": false
   },
   "outputs": [
    {
     "name": "stdout",
     "output_type": "stream",
     "text": [
      "3\n",
      "3\n"
     ]
    }
   ],
   "source": [
    "x = 1\n",
    "\n",
    "def my_function():\n",
    "    global x\n",
    "    x = 3\n",
    "    print(x)\n",
    "    \n",
    "my_function()\n",
    "\n",
    "print(x)"
   ]
  },
  {
   "cell_type": "markdown",
   "metadata": {},
   "source": [
    "## Unpacking"
   ]
  },
  {
   "cell_type": "code",
   "execution_count": 56,
   "metadata": {
    "collapsed": false
   },
   "outputs": [
    {
     "name": "stdout",
     "output_type": "stream",
     "text": [
      "this is a\n",
      "this is b\n"
     ]
    }
   ],
   "source": [
    "(a, b) = ('this is a', 'this is b')\n",
    "print(a)\n",
    "print(b)"
   ]
  },
  {
   "cell_type": "code",
   "execution_count": 55,
   "metadata": {
    "collapsed": false
   },
   "outputs": [
    {
     "name": "stdout",
     "output_type": "stream",
     "text": [
      "this is b\n",
      "this is a\n"
     ]
    }
   ],
   "source": [
    "a, b = b, a\n",
    "print(a)\n",
    "print(b)"
   ]
  },
  {
   "cell_type": "markdown",
   "metadata": {},
   "source": [
    "## Slicing"
   ]
  },
  {
   "cell_type": "code",
   "execution_count": 59,
   "metadata": {
    "collapsed": false
   },
   "outputs": [
    {
     "name": "stdout",
     "output_type": "stream",
     "text": [
      "Happy\n",
      "birthday\n",
      "you!\n",
      "birthday to \n",
      "Hpybrha oyu\n",
      "ap itdyt o!\n",
      "!uoy ot yadhtrib yppaH\n"
     ]
    }
   ],
   "source": [
    "s = 'Happy birthday to you!'\n",
    "\n",
    "print s[:5] #Beginning to 5th element\n",
    "print s[6:14] #6th to 14th element\n",
    "print s[-4:] #last 4 elements\n",
    "print s[6:-4] #6th to 4th last element\n",
    "print s[::2] #Every other?\n",
    "print s[1::2]\n",
    "print s[::-1]"
   ]
  },
  {
   "cell_type": "markdown",
   "metadata": {},
   "source": [
    "## Dictionaries"
   ]
  },
  {
   "cell_type": "code",
   "execution_count": 65,
   "metadata": {
    "collapsed": false
   },
   "outputs": [
    {
     "name": "stdout",
     "output_type": "stream",
     "text": [
      "1\n",
      "2\n",
      "3\n",
      "1 2\n"
     ]
    }
   ],
   "source": [
    "d = dict(a=1, b=2, c=3)\n",
    "print d['a']\n",
    "print d['b']\n",
    "print d['c']\n",
    "#print d['d']\n",
    "print d['a'], d['b']"
   ]
  },
  {
   "cell_type": "markdown",
   "metadata": {},
   "source": [
    "## Iterator"
   ]
  },
  {
   "cell_type": "markdown",
   "metadata": {},
   "source": [
    "### For loop syntax\n",
    "\n",
    "    for <counter> in <iterator>:\n",
    "        <do ...>\n",
    "        \n",
    "You can iterate over many differnt objects!"
   ]
  },
  {
   "cell_type": "code",
   "execution_count": 66,
   "metadata": {
    "collapsed": false
   },
   "outputs": [
    {
     "name": "stdout",
     "output_type": "stream",
     "text": [
      "0\n",
      "1\n",
      "2\n",
      "3\n",
      "4\n",
      "5\n",
      "6\n",
      "7\n",
      "8\n",
      "9\n"
     ]
    }
   ],
   "source": [
    "for i in xrange(10):\n",
    "    print(i)"
   ]
  },
  {
   "cell_type": "code",
   "execution_count": 68,
   "metadata": {
    "collapsed": false
   },
   "outputs": [
    {
     "name": "stdout",
     "output_type": "stream",
     "text": [
      "6\n",
      "10\n",
      "14\n",
      "18\n"
     ]
    }
   ],
   "source": [
    "for i in xrange(6, 20, 4): #start from 6, every 4, up to 20\n",
    "    print(i)"
   ]
  },
  {
   "cell_type": "markdown",
   "metadata": {},
   "source": [
    "Note the counter is just a container, and is *not* used in controlling the for loop"
   ]
  },
  {
   "cell_type": "code",
   "execution_count": 69,
   "metadata": {
    "collapsed": false
   },
   "outputs": [
    {
     "name": "stdout",
     "output_type": "stream",
     "text": [
      "0\n",
      "0\n",
      "0\n",
      "0\n"
     ]
    }
   ],
   "source": [
    "for i in xrange(6, 20, 4):\n",
    "    i = 0\n",
    "    print(i)"
   ]
  },
  {
   "cell_type": "code",
   "execution_count": 70,
   "metadata": {
    "collapsed": false
   },
   "outputs": [
    {
     "name": "stdout",
     "output_type": "stream",
     "text": [
      "H\n",
      "e\n",
      "l\n",
      "l\n",
      "o\n",
      " \n",
      "W\n",
      "o\n",
      "r\n",
      "l\n",
      "d\n",
      "!\n"
     ]
    }
   ],
   "source": [
    "for i in 'Hello World!':\n",
    "    print(i)"
   ]
  },
  {
   "cell_type": "code",
   "execution_count": 71,
   "metadata": {
    "collapsed": false
   },
   "outputs": [
    {
     "name": "stdout",
     "output_type": "stream",
     "text": [
      "1\n",
      "2.23\n",
      "None\n",
      "string\n",
      "<function <lambda> at 0x1080bdaa0>\n",
      "[1, 2, 3]\n"
     ]
    }
   ],
   "source": [
    "for i in [1, 2.23, None, 'string', lambda x:x+1, [1,2,3]]:\n",
    "    print(i)"
   ]
  },
  {
   "cell_type": "code",
   "execution_count": 72,
   "metadata": {
    "collapsed": false
   },
   "outputs": [
    {
     "name": "stdout",
     "output_type": "stream",
     "text": [
      "The Zen of Python, by Tim Peters\n",
      "\n",
      "\n",
      "\n",
      "Beautiful is better than ugly.\n",
      "\n",
      "Explicit is better than implicit.\n",
      "\n",
      "Simple is better than complex.\n",
      "\n",
      "Complex is better than complicated.\n",
      "\n",
      "Flat is better than nested.\n",
      "\n",
      "Sparse is better than dense.\n",
      "\n",
      "Readability counts.\n",
      "\n",
      "Special cases aren't special enough to break the rules.\n",
      "\n",
      "Although practicality beats purity.\n",
      "\n",
      "Errors should never pass silently.\n",
      "\n",
      "Unless explicitly silenced.\n",
      "\n",
      "In the face of ambiguity, refuse the temptation to guess.\n",
      "\n",
      "There should be one-- and preferably only one --obvious way to do it.\n",
      "\n",
      "Although that way may not be obvious at first unless you're Dutch.\n",
      "\n",
      "Now is better than never.\n",
      "\n",
      "Although never is often better than *right* now.\n",
      "\n",
      "If the implementation is hard to explain, it's a bad idea.\n",
      "\n",
      "If the implementation is easy to explain, it may be a good idea.\n",
      "\n",
      "Namespaces are one honking great idea -- let's do more of those!\n",
      "\n"
     ]
    }
   ],
   "source": [
    "with open('Zen.txt') as f:\n",
    "    for line in f:\n",
    "        print(line)"
   ]
  },
  {
   "cell_type": "markdown",
   "metadata": {},
   "source": [
    "Iterators can also be used in expressions!"
   ]
  },
  {
   "cell_type": "code",
   "execution_count": 77,
   "metadata": {
    "collapsed": false
   },
   "outputs": [
    {
     "name": "stdout",
     "output_type": "stream",
     "text": [
      "False\n",
      "True\n"
     ]
    }
   ],
   "source": [
    "print any(x == 9 for x in xrange(9))\n",
    "print all(x<9 for x in xrange(9))"
   ]
  },
  {
   "cell_type": "code",
   "execution_count": 74,
   "metadata": {
    "collapsed": false
   },
   "outputs": [
    {
     "data": {
      "text/plain": [
       "[0, 1, 4, 9, 16, 25, 36, 49, 64]"
      ]
     },
     "execution_count": 74,
     "metadata": {},
     "output_type": "execute_result"
    }
   ],
   "source": [
    "list(x*x for x in xrange(9))\n",
    "\n",
    "# or use list comprehension\n",
    "[x*x for x in xrange(9)]"
   ]
  },
  {
   "cell_type": "code",
   "execution_count": 78,
   "metadata": {
    "collapsed": false
   },
   "outputs": [
    {
     "data": {
      "text/plain": [
       "{'0': 0, '1': 1, '2': 2, '3': 3, '4': 4, '5': 5, '6': 6, '7': 7, '8': 8}"
      ]
     },
     "execution_count": 78,
     "metadata": {},
     "output_type": "execute_result"
    }
   ],
   "source": [
    "dict((str(x), x) for x in xrange(9))\n",
    "\n",
    "# or use dictionary comprehension\n",
    "{str(x): x for x in xrange(9)}"
   ]
  },
  {
   "cell_type": "code",
   "execution_count": 79,
   "metadata": {
    "collapsed": true
   },
   "outputs": [],
   "source": [
    "arr = [1,2,3,4,5,6,7,8,9,10,11]"
   ]
  },
  {
   "cell_type": "markdown",
   "metadata": {},
   "source": [
    "Compare the three methods below:"
   ]
  },
  {
   "cell_type": "code",
   "execution_count": 80,
   "metadata": {
    "collapsed": false
   },
   "outputs": [],
   "source": [
    "count = 0\n",
    "for i in range(len(arr)):\n",
    "    if arr[i] > 1:\n",
    "        count += 1"
   ]
  },
  {
   "cell_type": "code",
   "execution_count": 81,
   "metadata": {
    "collapsed": false
   },
   "outputs": [],
   "source": [
    "count = 0\n",
    "for i in arr:\n",
    "    if i > 1:\n",
    "        count += 1"
   ]
  },
  {
   "cell_type": "code",
   "execution_count": 82,
   "metadata": {
    "collapsed": false
   },
   "outputs": [],
   "source": [
    "count = sum(1 for i in arr if i > 1)"
   ]
  },
  {
   "cell_type": "markdown",
   "metadata": {},
   "source": [
    "Good practice: if you use this expression more than once, name it a function."
   ]
  },
  {
   "cell_type": "code",
   "execution_count": 83,
   "metadata": {
    "collapsed": false
   },
   "outputs": [
    {
     "data": {
      "text/plain": [
       "10"
      ]
     },
     "execution_count": 83,
     "metadata": {},
     "output_type": "execute_result"
    }
   ],
   "source": [
    "def countif(f, arr):\n",
    "    return sum(1 for i in arr if f(i))\n",
    "\n",
    "countif(lambda x: x > 1, arr)"
   ]
  },
  {
   "cell_type": "markdown",
   "metadata": {
    "collapsed": true
   },
   "source": [
    "## Exceptions"
   ]
  },
  {
   "cell_type": "code",
   "execution_count": 86,
   "metadata": {
    "collapsed": false
   },
   "outputs": [
    {
     "name": "stdout",
     "output_type": "stream",
     "text": [
      "0\n"
     ]
    }
   ],
   "source": [
    "a = 'abd'\n",
    "try:\n",
    "    a = int(a)\n",
    "except (ValueError, TypeError):\n",
    "    a = 0\n",
    "    \n",
    "print(a)"
   ]
  },
  {
   "cell_type": "markdown",
   "metadata": {},
   "source": [
    "# Tasks"
   ]
  },
  {
   "cell_type": "markdown",
   "metadata": {},
   "source": [
    "## Task 1\n",
    "\n",
    "Write a function: \n",
    "- Take one string as input\n",
    "- Return `Ture` if there exists an integer character *AND* its value matches its index in that string. Reture `False` otherwise.\n",
    "\n",
    "Examples:\n",
    "\n",
    "    task1('000') => True      # '0' at index 0\n",
    "    task1('abc') => False     # no integer character\n",
    "    task1('321') => False     # no matchin indices\n",
    "    task1('abc321') => True   # '3' at index 3"
   ]
  },
  {
   "cell_type": "code",
   "execution_count": 100,
   "metadata": {
    "collapsed": false
   },
   "outputs": [
    {
     "data": {
      "text/plain": [
       "True"
      ]
     },
     "execution_count": 100,
     "metadata": {},
     "output_type": "execute_result"
    }
   ],
   "source": [
    "def task1(s):\n",
    "    for i, c in enumerate(s[:10]):\n",
    "        if str(i) == c:\n",
    "            return True\n",
    "    return False\n",
    "        \n",
    "task1('ab2')"
   ]
  },
  {
   "cell_type": "markdown",
   "metadata": {},
   "source": [
    "## Task 2\n",
    "\n",
    "Write a function: \n",
    "-   Take one list of numbers as input\n",
    "-   Return `True` if the numbers in the list are monotone (strictly) decreasing. Reture `False` otherwise.\n",
    "\n",
    "Examples:\n",
    "\n",
    "    task2([4,3,1,2])   => False\n",
    "    task2([4,3,2,1])   => True\n",
    "    task2([4,3,2,2,1]) => False"
   ]
  },
  {
   "cell_type": "code",
   "execution_count": null,
   "metadata": {
    "collapsed": true
   },
   "outputs": [],
   "source": [
    "def task2(numbers):\n",
    "    pass"
   ]
  },
  {
   "cell_type": "markdown",
   "metadata": {},
   "source": [
    "## Task 3\n",
    "\n",
    "Write a function: \n",
    "-   Take two lists of numbers as input\n",
    "-   Return `True` if the following two criteria are both true:\n",
    "    1.  The second list is longer than or of the same length as the first list.\n",
    "    2.  Each element in the second list is larger than or equal to the corresponding element (i.e., at the same index)\n",
    "        in the first list.\n",
    "-  Reture `False` otherwise.\n",
    "\n",
    "Examples:\n",
    "\n",
    "    task3([3,2,1,0], [1,2,3,4])   => False\n",
    "    task3([3,2,1,0], [9,8,7])     => False\n",
    "    task3([3,2,1,0], [9,8,7,6])   => True\n",
    "    task3([3,2,1,0], [9,8,7,6,5]) => True\n"
   ]
  },
  {
   "cell_type": "code",
   "execution_count": null,
   "metadata": {
    "collapsed": true
   },
   "outputs": [],
   "source": [
    "def task3(list1, list2):\n",
    "    pass"
   ]
  },
  {
   "cell_type": "markdown",
   "metadata": {},
   "source": [
    "## Task 4\n",
    "\n",
    "Write a function: \n",
    "-   Take a string as input\n",
    "-   Return a tuple whichs contains two numbers\n",
    "    1. The first number is the number of unique characters in the input string.\n",
    "    2. The second number is maximal occurance of a single character.\n",
    "\n",
    "Examples:\n",
    "\n",
    "    task4('apple')       => (4, 2)\n",
    "    task4('universe')    => (7, 2)\n",
    "    task4('mississippi') => (4, 4)\n",
    "    task4('')            => (0, 0)"
   ]
  },
  {
   "cell_type": "code",
   "execution_count": 110,
   "metadata": {
    "collapsed": false
   },
   "outputs": [
    {
     "data": {
      "text/plain": [
       "(0, 0)"
      ]
     },
     "execution_count": 110,
     "metadata": {},
     "output_type": "execute_result"
    }
   ],
   "source": [
    "def task4(s):\n",
    "    d= dict()\n",
    "    for c in s:\n",
    "        if c in d:\n",
    "            d[c] +=1\n",
    "        else:\n",
    "            d[c] = 1\n",
    "    return len(d), max(d.values()) if d else 0\n",
    "\n",
    "task4('')"
   ]
  },
  {
   "cell_type": "markdown",
   "metadata": {},
   "source": [
    "## Task 5\n",
    "\n",
    "Write a function: \n",
    "-   Take two arguments:\n",
    "    1. a list of lists\n",
    "    2. an integer, n\n",
    "-   Return a list, which collects the n-th element of each list in the input list, in the same order. (0-indexed)\n",
    "-   Note: if a list in the input list is shorter than n+1, put `None` as the corresponding element in the returned list.\n",
    "\n",
    "Examples:\n",
    "\n",
    "    task5([[1, 2, 3], [4, 5, 6], [7, 8], [9, 10]], 1)       => [2, 5, 8, 10]\n",
    "    task5([[1, 2, 3], [4, 5, 6], [7, 8], [9, 10]], 2)       => [3, 6, None, None]\n",
    "    task5([[], [], [], [], []], 0)                          => [None, None, None, None, None]"
   ]
  },
  {
   "cell_type": "code",
   "execution_count": null,
   "metadata": {
    "collapsed": true
   },
   "outputs": [],
   "source": [
    "def task5(lists, n):\n",
    "    pass"
   ]
  }
 ],
 "metadata": {
  "kernelspec": {
   "display_name": "Python 2",
   "language": "python",
   "name": "python2"
  },
  "language_info": {
   "codemirror_mode": {
    "name": "ipython",
    "version": 2
   },
   "file_extension": ".py",
   "mimetype": "text/x-python",
   "name": "python",
   "nbconvert_exporter": "python",
   "pygments_lexer": "ipython2",
   "version": "2.7.10"
  }
 },
 "nbformat": 4,
 "nbformat_minor": 0
}
